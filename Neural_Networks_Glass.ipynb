{
 "cells": [
  {
   "cell_type": "markdown",
   "metadata": {},
   "source": [
    "### Import the relevant libraries"
   ]
  },
  {
   "cell_type": "code",
   "execution_count": 3,
   "metadata": {},
   "outputs": [],
   "source": [
    "from sklearn import preprocessing\n",
    "import numpy as np\n",
    "import tensorflow as tf"
   ]
  },
  {
   "cell_type": "markdown",
   "metadata": {},
   "source": [
    "###### Extract data from csv"
   ]
  },
  {
   "cell_type": "code",
   "execution_count": 4,
   "metadata": {},
   "outputs": [],
   "source": [
    "raw_csv_data = np.loadtxt('glass.csv', delimiter=',')\n",
    "unscaled_inputs_all=raw_csv_data[:,:-1]\n",
    "targets_all=raw_csv_data[:,-1]"
   ]
  },
  {
   "cell_type": "markdown",
   "metadata": {},
   "source": [
    "###### Standardise"
   ]
  },
  {
   "cell_type": "code",
   "execution_count": 5,
   "metadata": {},
   "outputs": [],
   "source": [
    "scaled_inputs = preprocessing.scale(unscaled_inputs_all)"
   ]
  },
  {
   "cell_type": "markdown",
   "metadata": {},
   "source": [
    "###### Shuffle"
   ]
  },
  {
   "cell_type": "code",
   "execution_count": 6,
   "metadata": {},
   "outputs": [],
   "source": [
    "shuffled_indices = np.arange(scaled_inputs.shape[0])\n",
    "np.random.shuffle(shuffled_indices)\n",
    "\n",
    "shuffled_inputs=scaled_inputs[shuffled_indices]\n",
    "shuffled_targets = targets_all[shuffled_indices]"
   ]
  },
  {
   "cell_type": "markdown",
   "metadata": {},
   "source": [
    "###### Split (Train, validation, test)"
   ]
  },
  {
   "cell_type": "code",
   "execution_count": 7,
   "metadata": {},
   "outputs": [],
   "source": [
    "samples_count=shuffled_inputs.shape[0]\n",
    "train_samples_count= int(0.8*samples_count)\n",
    "validation_samples_count = int(0.1* samples_count)\n",
    "test_samples_count=samples_count-train_samples_count-validation_samples_count\n",
    "\n",
    "train_inputs = shuffled_inputs[:train_samples_count]\n",
    "train_targets = shuffled_targets[:train_samples_count]\n",
    "\n",
    "validation_inputs = shuffled_inputs[train_samples_count:train_samples_count+validation_samples_count]\n",
    "validation_targets = shuffled_targets[train_samples_count:train_samples_count+validation_samples_count]\n",
    "\n",
    "test_inputs = shuffled_inputs[train_samples_count+ validation_samples_count:]\n",
    "test_targets = shuffled_targets[train_samples_count+ validation_samples_count:]"
   ]
  },
  {
   "cell_type": "markdown",
   "metadata": {},
   "source": [
    "###### Save 3 datasets in npz"
   ]
  },
  {
   "cell_type": "code",
   "execution_count": 8,
   "metadata": {},
   "outputs": [],
   "source": [
    "np.savez('Glass_data_train',inputs=train_inputs,targets=train_targets)\n",
    "np.savez('Glass_data_validation',inputs=validation_inputs,targets=validation_targets)\n",
    "np.savez('Glass_data_test',inputs=test_inputs,targets=test_targets)"
   ]
  },
  {
   "cell_type": "markdown",
   "metadata": {},
   "source": [
    "### Data"
   ]
  },
  {
   "cell_type": "code",
   "execution_count": 9,
   "metadata": {},
   "outputs": [],
   "source": [
    "npz = np.load('Glass_data_train.npz')\n",
    "train_inputs = npz['inputs'].astype(np.float)\n",
    "train_targets = npz['targets'].astype(np.int)\n",
    "npz = np.load('Glass_data_validation.npz')\n",
    "validation_inputs, validation_targets = npz['inputs'].astype(np.float), npz['targets'].astype(np.int)\n",
    "npz = np.load('Glass_data_test.npz')\n",
    "test_inputs, test_targets = npz['inputs'].astype(np.float), npz['targets'].astype(np.int)"
   ]
  },
  {
   "cell_type": "markdown",
   "metadata": {},
   "source": [
    "### Model\n",
    "Outline, optimizers, loss, early stopping and training"
   ]
  },
  {
   "cell_type": "code",
   "execution_count": 22,
   "metadata": {},
   "outputs": [
    {
     "name": "stdout",
     "output_type": "stream",
     "text": [
      "Epoch 1/100\n",
      "7/7 - 0s - loss: 2.1295 - accuracy: 0.0994 - val_loss: 1.9996 - val_accuracy: 0.1429\n",
      "Epoch 2/100\n",
      "7/7 - 0s - loss: 1.9666 - accuracy: 0.2515 - val_loss: 1.8569 - val_accuracy: 0.5238\n",
      "Epoch 3/100\n",
      "7/7 - 0s - loss: 1.8295 - accuracy: 0.4386 - val_loss: 1.7252 - val_accuracy: 0.5238\n",
      "Epoch 4/100\n",
      "7/7 - 0s - loss: 1.6941 - accuracy: 0.4620 - val_loss: 1.6015 - val_accuracy: 0.5238\n",
      "Epoch 5/100\n",
      "7/7 - 0s - loss: 1.5541 - accuracy: 0.4561 - val_loss: 1.4887 - val_accuracy: 0.5238\n",
      "Epoch 6/100\n",
      "7/7 - 0s - loss: 1.4184 - accuracy: 0.4795 - val_loss: 1.3807 - val_accuracy: 0.5238\n",
      "Epoch 7/100\n",
      "7/7 - 0s - loss: 1.2845 - accuracy: 0.5205 - val_loss: 1.2847 - val_accuracy: 0.5714\n",
      "Epoch 8/100\n",
      "7/7 - 0s - loss: 1.1631 - accuracy: 0.6257 - val_loss: 1.2128 - val_accuracy: 0.6190\n",
      "Epoch 9/100\n",
      "7/7 - 0s - loss: 1.0719 - accuracy: 0.6491 - val_loss: 1.1582 - val_accuracy: 0.5238\n",
      "Epoch 10/100\n",
      "7/7 - 0s - loss: 0.9983 - accuracy: 0.6550 - val_loss: 1.1168 - val_accuracy: 0.5714\n",
      "Epoch 11/100\n",
      "7/7 - 0s - loss: 0.9387 - accuracy: 0.6608 - val_loss: 1.0775 - val_accuracy: 0.5714\n",
      "Epoch 12/100\n",
      "7/7 - 0s - loss: 0.8899 - accuracy: 0.6784 - val_loss: 1.0356 - val_accuracy: 0.5714\n",
      "Epoch 13/100\n",
      "7/7 - 0s - loss: 0.8515 - accuracy: 0.7076 - val_loss: 0.9862 - val_accuracy: 0.6190\n",
      "Epoch 14/100\n",
      "7/7 - 0s - loss: 0.8132 - accuracy: 0.6959 - val_loss: 0.9569 - val_accuracy: 0.5238\n",
      "Epoch 15/100\n",
      "7/7 - 0s - loss: 0.7816 - accuracy: 0.7076 - val_loss: 0.9252 - val_accuracy: 0.6190\n",
      "Epoch 16/100\n",
      "7/7 - 0s - loss: 0.7536 - accuracy: 0.7251 - val_loss: 0.8956 - val_accuracy: 0.6190\n",
      "Epoch 17/100\n",
      "7/7 - 0s - loss: 0.7314 - accuracy: 0.7544 - val_loss: 0.8718 - val_accuracy: 0.7143\n",
      "Epoch 18/100\n",
      "7/7 - 0s - loss: 0.7076 - accuracy: 0.7368 - val_loss: 0.8782 - val_accuracy: 0.7143\n",
      "Epoch 19/100\n",
      "7/7 - 0s - loss: 0.6864 - accuracy: 0.7368 - val_loss: 0.8726 - val_accuracy: 0.7143\n"
     ]
    },
    {
     "data": {
      "text/plain": [
       "<keras.callbacks.History at 0x7fab64690ad0>"
      ]
     },
     "execution_count": 22,
     "metadata": {},
     "output_type": "execute_result"
    }
   ],
   "source": [
    "input_size = 9\n",
    "output_size = 8\n",
    "hidden_layer_size = 50\n",
    "model = tf.keras.Sequential([\n",
    "    tf.keras.layers.Dense(hidden_layer_size, activation='relu'), # 1st hidden layer\n",
    "    tf.keras.layers.Dense(hidden_layer_size, activation='relu'), # 2nd hidden layer\n",
    "    tf.keras.layers.Dense(hidden_layer_size, activation='relu'), # 3rd hidden layer\n",
    "    tf.keras.layers.Dense(output_size, activation='softmax') # output layer\n",
    "])\n",
    "\n",
    "\n",
    "###The optimizer and the loss function\n",
    "model.compile(optimizer='adam', loss='sparse_categorical_crossentropy', metrics=['accuracy'])\n",
    "\n",
    "### Training\n",
    "batch_size = 25\n",
    "max_epochs = 100\n",
    "\n",
    "# Early stopping mechanism\n",
    "early_stopping = tf.keras.callbacks.EarlyStopping(patience=2)\n",
    "\n",
    "model.fit(train_inputs, \n",
    "          train_targets, \n",
    "          batch_size=batch_size, \n",
    "          epochs=max_epochs, \n",
    "            callbacks=[early_stopping],\n",
    "          validation_data=(validation_inputs, validation_targets), \n",
    "          verbose = 2\n",
    "          )  "
   ]
  },
  {
   "cell_type": "markdown",
   "metadata": {},
   "source": [
    "# Testing the model on a completely new dataset"
   ]
  },
  {
   "cell_type": "code",
   "execution_count": 23,
   "metadata": {},
   "outputs": [
    {
     "name": "stdout",
     "output_type": "stream",
     "text": [
      "1/1 [==============================] - 0s 18ms/step - loss: 0.6370 - accuracy: 0.8636\n"
     ]
    }
   ],
   "source": [
    "test_loss, test_accuracy = model.evaluate(test_inputs, test_targets)"
   ]
  },
  {
   "cell_type": "code",
   "execution_count": 24,
   "metadata": {},
   "outputs": [
    {
     "name": "stdout",
     "output_type": "stream",
     "text": [
      "\n",
      "Test loss: 0.64. Test accuracy: 86.36%\n"
     ]
    }
   ],
   "source": [
    "print('\\nTest loss: {0:.2f}. Test accuracy: {1:.2f}%'.format(test_loss, test_accuracy*100.))"
   ]
  },
  {
   "cell_type": "markdown",
   "metadata": {},
   "source": [
    "Here, we conclude that out model was able to predict at an accuracy of 86.36%"
   ]
  }
 ],
 "metadata": {
  "kernelspec": {
   "display_name": "Python [conda env:py3-TF2.0]",
   "language": "python",
   "name": "conda-env-py3-TF2.0-py"
  },
  "language_info": {
   "codemirror_mode": {
    "name": "ipython",
    "version": 3
   },
   "file_extension": ".py",
   "mimetype": "text/x-python",
   "name": "python",
   "nbconvert_exporter": "python",
   "pygments_lexer": "ipython3",
   "version": "3.7.11"
  }
 },
 "nbformat": 4,
 "nbformat_minor": 2
}
